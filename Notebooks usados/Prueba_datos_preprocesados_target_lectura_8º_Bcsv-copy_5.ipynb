{
 "cells": [
  {
   "cell_type": "code",
   "execution_count": 1,
   "metadata": {},
   "outputs": [],
   "source": [
    "import pandas as pd\n",
    "import numpy as np\n",
    "import os"
   ]
  },
  {
   "cell_type": "code",
   "execution_count": 2,
   "metadata": {},
   "outputs": [
    {
     "name": "stdout",
     "output_type": "stream",
     "text": [
      "ParametrosM_DR_L001M1NBAA\n"
     ]
    }
   ],
   "source": [
    "actual_file = r'C:\\Users\\riul0\\Desktop\\TFG_Empresa\\Datos_8º_B'\n",
    "files_in_path = os.listdir(actual_file)\n",
    "files_in_path=files_in_path[2:-1]\n",
    "print(files_in_path[0])\n",
    "\n",
    "file_object  = open(files_in_path[0], 'r')"
   ]
  },
  {
   "cell_type": "code",
   "execution_count": 3,
   "metadata": {
    "scrolled": false
   },
   "outputs": [
    {
     "name": "stdout",
     "output_type": "stream",
     "text": [
      "Parametros Marcha paciente DR_L001M1NBAA\n",
      "VARIABLES TEMPORALES\n",
      "P1\t86.073578\n",
      "P2\t13.926422\n",
      "P3\t0.534723\n",
      "P4\t31.454314\n",
      "P5\t3.430000\n",
      "P6\t17.701782\n",
      "P7\t0.159314\n",
      "P8\t9.371439\n",
      "P9\t0.282797\n",
      "P10\t16.635098\n",
      "P11\t1.900000\n",
      "P12\t32.010394\n",
      "P13\t0.430000\n",
      "P14\t1.056667\n",
      "VELOCIDADES ANGULARES\n",
      "HV1\t-12.793835\n",
      "HV2\t18.915311\n",
      "KV1\t35.562606\n",
      "KV2\t-103.888668\n",
      "AV1\t-6.111353\n",
      "Vfdt1\t11.362281\n",
      "Vfdt2\t-19.881635\n",
      "VARIABLES CINEMATICAS\n",
      "Pelvis\n",
      "Basculacion anterior\n",
      "HR1\t24.930667\n",
      "HR2\t9.031000\n",
      "HR3\t15.899667\n",
      "THR1\t76.737828\n",
      "THR2\t1.334307\n",
      "Oblicuidad\n",
      "HR4\t3.247333\n",
      "HR5\t-3.024333\n",
      "HR6\t6.271667\n",
      "THR4\t65.433785\n",
      "THR5\t40.910768\n",
      "Rotacion\n",
      "HR7\t-5.529667\n",
      "HR8\t-23.313333\n",
      "HR9\t17.783667\n",
      "THR7\t22.521474\n",
      "THR8\t86.302166\n",
      "Cadera\n",
      "Flexo-extension\n",
      "H1\t23.620000\n",
      "H2\t34.017333\n",
      "H3\t4.938333\n",
      "H4\t34.290667\n",
      "H5\t39.763000\n",
      "H6\t24.063000\n",
      "H7\t34.824667\n",
      "TH2\t85.926063\n",
      "TH3\t45.407535\n",
      "TH4\n",
      "TH5\t90.617872\n",
      "TH6\t100.000000\n",
      "Adduccion\n",
      "H8\t2.914333\n",
      "H9\t7.969333\n",
      "H10\t-0.314000\n",
      "H11\t3.761000\n",
      "H12\t6.285667\n",
      "H13\t1.533333\n",
      "H14\t8.283333\n",
      "TH9\t55.382983\n",
      "TH10\t58.975596\n",
      "TH11\n",
      "TH12\t93.265476\n",
      "TH13\t91.459065\n",
      "Rotacion interna\n",
      "H15\t12.839000\n",
      "H16\t-9.286667\n",
      "H17\t22.125667\n",
      "THR15\t44.695366\n",
      "THR16\t84.831232\n",
      "Rodilla\n",
      "Flexion\n",
      "K1\t10.630667\n",
      "K2\t44.282667\n",
      "K3\t-6.406333\n",
      "K4\t44.828333\n",
      "K5\t50.745333\n",
      "K6\t9.760333\n",
      "K7\t57.151667\n",
      "TK2\t85.926063\n",
      "TK3\t34.053991\n",
      "TK4\n",
      "TK5\t88.455968\n",
      "TK6\t100.000000\n",
      "Varo\n",
      "K8\t2.561000\n",
      "K9\t-4.929000\n",
      "K10\t7.490000\n",
      "TK8\t34.890236\n",
      "TK9\t84.231655\n",
      "Rotacion interna\n",
      "K11\t-9.578333\n",
      "K12\t-20.832000\n",
      "K13\t11.253667\n",
      "TK11\t86.700709\n",
      "TK12\t42.244160\n",
      "Tobillo\n",
      "Flexion dorsal\n",
      "A1\t7.073667\n",
      "A2\t13.707667\n",
      "A3\t-1.100333\n",
      "A4\t-0.092333\n",
      "A5\t8.179333\n",
      "A6\t-0.500000\n",
      "A7\t15.219333\n",
      "TA2\t64.086420\n",
      "TA3\t61.349792\n",
      "TA4\n",
      "TA5\t96.864715\n",
      "TA6\t86.864505\n",
      "Supinacion\n",
      "A8\t14.619333\n",
      "A9\t6.941000\n",
      "A10\t7.678333\n",
      "TA8\t73.942354\n",
      "TA9\t37.068550\n",
      "VARIABLES CINETICAS\n",
      "Fuerzas de reaccion del suelo\n",
      "F1\n",
      "F2\n",
      "F3\n",
      "F4\t0.000000\n",
      "F5\t0.000000\n",
      "F6\n",
      "F7\n",
      "Cinetica articular\n",
      "Cadera\n",
      "HM1\t0.000000\n",
      "HM2\t0.000000\n",
      "THM1\t0.000000\n",
      "THM2\t0.000000\n",
      "HM3\t0.000000\n",
      "HM4\t0.000000\n",
      "THM3\t0.000000\n",
      "THM4\t0.000000\n",
      "HM5\t0.000000\n",
      "HM6\t0.000000\n",
      "THM5\t0.000000\n",
      "THM6\t0.000000\n",
      "Rodilla\n",
      "KM1\t0.000000\n",
      "KM2\t0.000000\n",
      "TKM1\t0.000000\n",
      "TKM2\t0.000000\n",
      "KM3\t0.000000\n",
      "KM4\t0.000000\n",
      "TKM3\t0.000000\n",
      "TKM4\t0.000000\n",
      "KM5\t0.000000\n",
      "KM6\t0.000000\n",
      "TKM5\t0.000000\n",
      "TKM6\t0.000000\n",
      "Tobillo\n",
      "AM1\t0.000000\n",
      "AM2\t0.000000\n",
      "TAM1\t0.000000\n",
      "TAM2\t0.000000\n",
      "AM3\t0.000000\n",
      "AM4\t0.000000\n",
      "TAM3\t0.000000\n",
      "TAM4\t0.000000\n",
      "AM5\t0.000000\n",
      "AM6\t0.000000\n",
      "TAM5\t0.000000\n",
      "TAM6\t0.000000\n"
     ]
    }
   ],
   "source": [
    "print(file_object.read())"
   ]
  },
  {
   "cell_type": "markdown",
   "metadata": {},
   "source": [
    "·"
   ]
  },
  {
   "cell_type": "markdown",
   "metadata": {},
   "source": [
    "·"
   ]
  },
  {
   "cell_type": "code",
   "execution_count": 4,
   "metadata": {},
   "outputs": [
    {
     "name": "stdout",
     "output_type": "stream",
     "text": [
      "186\n"
     ]
    }
   ],
   "source": [
    "actual_file = r'C:\\Users\\riul0\\Desktop\\TFG_Empresa\\Datos_8º_B'\n",
    "files_in_path = os.listdir(actual_file)\n",
    "files_in_path=files_in_path[2:-1]\n",
    "print(len(files_in_path))"
   ]
  },
  {
   "cell_type": "markdown",
   "metadata": {},
   "source": [
    "·"
   ]
  },
  {
   "cell_type": "markdown",
   "metadata": {},
   "source": [
    "·"
   ]
  },
  {
   "cell_type": "markdown",
   "metadata": {},
   "source": [
    "# DO NOT EXECUTE IT AGAIN OR BORROW ARCHIVES FROM TARGET FILE"
   ]
  },
  {
   "cell_type": "code",
   "execution_count": 6,
   "metadata": {},
   "outputs": [],
   "source": [
    "new_destination_file = r'C:\\Users\\riul0\\Desktop\\TFG_Empresa\\Datos_8º_B\\csv_8º_B'\n",
    "\n",
    "for i in files_in_path:\n",
    "    read_file = pd.read_csv (actual_file + '\\\\' + i)\n",
    "    read_file.to_csv(new_destination_file + '\\\\' + i + '.csv', index=None)"
   ]
  },
  {
   "cell_type": "markdown",
   "metadata": {},
   "source": [
    "# DO NOT EXECUTE IT AGAIN OR BORROW ARCHIVES FROM TARGET FILE"
   ]
  },
  {
   "cell_type": "markdown",
   "metadata": {},
   "source": [
    "·"
   ]
  },
  {
   "cell_type": "markdown",
   "metadata": {},
   "source": [
    "·"
   ]
  },
  {
   "cell_type": "markdown",
   "metadata": {},
   "source": [
    "·"
   ]
  }
 ],
 "metadata": {
  "kernelspec": {
   "display_name": "Python 3",
   "language": "python",
   "name": "python3"
  },
  "language_info": {
   "codemirror_mode": {
    "name": "ipython",
    "version": 3
   },
   "file_extension": ".py",
   "mimetype": "text/x-python",
   "name": "python",
   "nbconvert_exporter": "python",
   "pygments_lexer": "ipython3",
   "version": "3.8.3"
  }
 },
 "nbformat": 4,
 "nbformat_minor": 4
}
