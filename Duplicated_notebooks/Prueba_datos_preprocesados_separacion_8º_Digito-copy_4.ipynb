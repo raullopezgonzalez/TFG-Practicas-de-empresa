{
 "cells": [
  {
   "cell_type": "code",
   "execution_count": 1,
   "metadata": {},
   "outputs": [],
   "source": [
    "import shutil # importing shutil module,     shutil.copytree(source, destination)   \n",
    "import os # importing os module  "
   ]
  },
  {
   "cell_type": "code",
   "execution_count": 2,
   "metadata": {},
   "outputs": [],
   "source": [
    "path = r'C:\\Users\\riul0\\Desktop\\TFG_Empresa\\Datos_procesados'"
   ]
  },
  {
   "cell_type": "code",
   "execution_count": 3,
   "metadata": {},
   "outputs": [
    {
     "name": "stdout",
     "output_type": "stream",
     "text": [
      "Examples : ['L001M', 'L002M', 'L002M2N', 'L003M', 'L003M2N', 'L003M3N', 'L004M', 'L005M', 'L005M2N', 'L006M']\n"
     ]
    }
   ],
   "source": [
    "files_in_path = os.listdir(path)\n",
    "print('Examples :',files_in_path[0:10])"
   ]
  },
  {
   "cell_type": "code",
   "execution_count": 4,
   "metadata": {},
   "outputs": [],
   "source": [
    "destination_path_A = r'C:\\Users\\riul0\\Desktop\\TFG_Empresa\\Datos_8º_A'\n",
    "destination_path_B = r'C:\\Users\\riul0\\Desktop\\TFG_Empresa\\Datos_8º_B'\n",
    "destination_path_C = r'C:\\Users\\riul0\\Desktop\\TFG_Empresa\\Datos_8º_C'\n",
    "destination_path_D = r'C:\\Users\\riul0\\Desktop\\TFG_Empresa\\Datos_8º_D'"
   ]
  },
  {
   "cell_type": "markdown",
   "metadata": {},
   "source": [
    "·"
   ]
  },
  {
   "cell_type": "code",
   "execution_count": 9,
   "metadata": {},
   "outputs": [],
   "source": [
    "path = r'C:\\Users\\riul0\\Desktop\\TFG_Empresa\\Datos_procesados'\n",
    "\n",
    "files_in_path = os.listdir(path)\n",
    "example = files_in_path\n",
    "\n",
    "for a in example:\n",
    "    new_path = path + \"\\\\\"+ a\n",
    "    files = os.listdir(new_path)\n",
    "    for b in files:\n",
    "        if b == 'Informes':\n",
    "            new_new_path = new_path + '\\\\Informes'\n",
    "            archives = os.listdir(new_new_path)\n",
    "            for c in archives:\n",
    "                if c[0:10] == 'Parametros' and c[-1] == 'A' and c[-2] == 'A':\n",
    "                    archive_to_copy = new_new_path + \"\\\\\"+ c\n",
    "                    if c[-3] == 'A':                        \n",
    "                        shutil.copy(archive_to_copy, destination_path_A)\n",
    "                    elif c[-3] == 'B':                        \n",
    "                        shutil.copy(archive_to_copy, destination_path_B)\n",
    "                    elif c[-3] == 'C':                        \n",
    "                        shutil.copy(archive_to_copy, destination_path_C)\n",
    "                    elif c[-3] == 'D':                        \n",
    "                        shutil.copy(archive_to_copy, destination_path_D)\n",
    "                    \n",
    "                    \n",
    "        if b == 'Informe medico':\n",
    "            new_new_path = new_path + '\\\\Informe medico'\n",
    "            archives = os.listdir(new_new_path)\n",
    "            for c in archives:\n",
    "                if c[0:10] == 'Parametros' and c[-1] == 'A' and c[-2] == 'A':\n",
    "                    archive_to_copy = new_new_path + \"\\\\\"+ c\n",
    "                    if c[-3] == 'A':                        \n",
    "                        shutil.copy(archive_to_copy, destination_path_A)\n",
    "                    elif c[-3] == 'B':                        \n",
    "                        shutil.copy(archive_to_copy, destination_path_B)\n",
    "                    elif c[-3] == 'C':                        \n",
    "                        shutil.copy(archive_to_copy, destination_path_C)\n",
    "                    elif c[-3] == 'D':                        \n",
    "                        shutil.copy(archive_to_copy, destination_path_D)\n",
    "                    \n",
    "        else:\n",
    "            new_new_path = new_path \n",
    "            archives = os.listdir(new_new_path)\n",
    "            for c in archives:\n",
    "                if c[0:10] == 'Parametros' and c[-1] == 'A' and c[-2] == 'A':\n",
    "                    archive_to_copy = new_new_path + \"\\\\\"+ c\n",
    "                    if c[-3] == 'A':                        \n",
    "                        shutil.copy(archive_to_copy, destination_path_A)\n",
    "                    elif c[-3] == 'B':                        \n",
    "                        shutil.copy(archive_to_copy, destination_path_B)\n",
    "                    elif c[-3] == 'C':                        \n",
    "                        shutil.copy(archive_to_copy, destination_path_C)\n",
    "                    elif c[-3] == 'D':                        \n",
    "                        shutil.copy(archive_to_copy, destination_path_D)     "
   ]
  },
  {
   "cell_type": "markdown",
   "metadata": {},
   "source": [
    "·"
   ]
  },
  {
   "cell_type": "markdown",
   "metadata": {},
   "source": [
    "·"
   ]
  },
  {
   "cell_type": "markdown",
   "metadata": {},
   "source": [
    "·"
   ]
  },
  {
   "cell_type": "markdown",
   "metadata": {},
   "source": [
    "·"
   ]
  }
 ],
 "metadata": {
  "kernelspec": {
   "display_name": "Python 3",
   "language": "python",
   "name": "python3"
  },
  "language_info": {
   "codemirror_mode": {
    "name": "ipython",
    "version": 3
   },
   "file_extension": ".py",
   "mimetype": "text/x-python",
   "name": "python",
   "nbconvert_exporter": "python",
   "pygments_lexer": "ipython3",
   "version": "3.8.3"
  }
 },
 "nbformat": 4,
 "nbformat_minor": 4
}
