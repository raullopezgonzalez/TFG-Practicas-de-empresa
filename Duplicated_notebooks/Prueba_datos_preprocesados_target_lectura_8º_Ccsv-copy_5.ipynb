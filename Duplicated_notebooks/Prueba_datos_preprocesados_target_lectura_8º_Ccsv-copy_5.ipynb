{
 "cells": [
  {
   "cell_type": "code",
   "execution_count": 2,
   "metadata": {},
   "outputs": [],
   "source": [
    "import pandas as pd\n",
    "import numpy as np\n",
    "import os"
   ]
  },
  {
   "cell_type": "code",
   "execution_count": 3,
   "metadata": {},
   "outputs": [
    {
     "name": "stdout",
     "output_type": "stream",
     "text": [
      "ParametrosM_DR_L001M1NCAA\n"
     ]
    }
   ],
   "source": [
    "actual_file = r'C:\\Users\\riul0\\Desktop\\TFG_Empresa\\Datos_8º_C'\n",
    "files_in_path = os.listdir(actual_file)\n",
    "files_in_path=files_in_path[2:-1]\n",
    "print(files_in_path[0])\n",
    "\n",
    "file_object  = open(files_in_path[0], 'r')"
   ]
  },
  {
   "cell_type": "code",
   "execution_count": 4,
   "metadata": {
    "scrolled": false
   },
   "outputs": [
    {
     "name": "stdout",
     "output_type": "stream",
     "text": [
      "Parametros Marcha paciente DR_L001M1NCAA\n",
      "VARIABLES TEMPORALES\n",
      "P1\t85.999123\n",
      "P2\t14.000877\n",
      "P3\t0.708033\n",
      "P4\t41.649020\n",
      "P5\t4.481667\n",
      "P6\t13.435384\n",
      "P7\t0.159117\n",
      "P8\t9.359814\n",
      "P9\t0.340393\n",
      "P10\t20.023137\n",
      "P11\t2.275000\n",
      "P12\t26.472306\n",
      "P13\t0.568333\n",
      "P14\t1.831667\n",
      "VELOCIDADES ANGULARES\n",
      "HV1\t-16.654210\n",
      "HV2\t10.397463\n",
      "KV1\t28.255723\n",
      "KV2\t-79.719588\n",
      "AV1\t-6.991520\n",
      "Vfdt1\t13.891883\n",
      "Vfdt2\tNaN\n",
      "VARIABLES CINEMATICAS\n",
      "Pelvis\n",
      "Basculacion anterior\n",
      "HR1\t26.180000\n",
      "HR2\t6.682000\n",
      "HR3\t19.498000\n",
      "THR1\t67.000824\n",
      "THR2\t34.267849\n",
      "Oblicuidad\n",
      "HR4\t6.054000\n",
      "HR5\t-1.772333\n",
      "HR6\t7.826333\n",
      "THR4\t83.573202\n",
      "THR5\t8.774539\n",
      "Rotacion\n",
      "HR7\t7.160667\n",
      "HR8\t-11.448667\n",
      "HR9\t18.609333\n",
      "THR7\t30.680647\n",
      "THR8\t63.361548\n",
      "Cadera\n",
      "Flexo-extension\n",
      "H1\t21.233333\n",
      "H2\t22.133667\n",
      "H3\t-3.816333\n",
      "H4\t17.589667\n",
      "H5\t32.802667\n",
      "H6\t15.378667\n",
      "H7\t36.619000\n",
      "TH2\t29.424084\n",
      "TH3\t49.892314\n",
      "TH4\n",
      "TH5\t93.012955\n",
      "TH6\t89.873468\n",
      "Adduccion\n",
      "H8\t0.962667\n",
      "H9\t7.565000\n",
      "H10\t-3.715333\n",
      "H11\t2.244667\n",
      "H12\t2.946000\n",
      "H13\t-3.313000\n",
      "H14\t12.509000\n",
      "TH9\t64.332676\n",
      "TH10\t12.849917\n",
      "TH11\n",
      "TH12\t90.800514\n",
      "TH13\t96.343737\n",
      "Rotacion interna\n",
      "H15\t4.042333\n",
      "H16\t-15.339667\n",
      "H17\t19.382000\n",
      "THR15\t61.032646\n",
      "THR16\t90.211148\n",
      "Rodilla\n",
      "Flexion\n",
      "K1\t7.213667\n",
      "K2\t33.544000\n",
      "K3\t-13.173667\n",
      "K4\t33.968333\n",
      "K5\t44.175333\n",
      "K6\t6.628000\n",
      "K7\t57.349000\n",
      "TK2\t85.887161\n",
      "TK3\t35.679748\n",
      "TK4\n",
      "TK5\t89.007868\n",
      "TK6\t100.000000\n",
      "Varo\n",
      "K8\t5.321667\n",
      "K9\t-6.194667\n",
      "K10\t11.516333\n",
      "TK8\t53.102464\n",
      "TK9\t87.384033\n",
      "Rotacion interna\n",
      "K11\t-9.212667\n",
      "K12\t-24.866667\n",
      "K13\t15.654000\n",
      "TK11\t87.224654\n",
      "TK12\t54.799339\n",
      "Tobillo\n",
      "Flexion dorsal\n",
      "A1\t5.933667\n",
      "A2\t15.600667\n",
      "A3\t-3.776667\n",
      "A4\t-2.336000\n",
      "A5\t7.532333\n",
      "A6\t-3.397000\n",
      "A7\t20.469333\n",
      "TA2\t56.100408\n",
      "TA3\t35.165279\n",
      "TA4\n",
      "TA5\t97.496909\n",
      "TA6\t87.142981\n",
      "Supinacion\n",
      "A8\t15.471333\n",
      "A9\t6.137667\n",
      "A10\t9.333667\n",
      "TA8\t77.546383\n",
      "TA9\t21.861987\n",
      "VARIABLES CINETICAS\n",
      "Fuerzas de reaccion del suelo\n",
      "F1\n",
      "F2\n",
      "F3\n",
      "F4\t0.000000\n",
      "F5\t0.000000\n",
      "F6\n",
      "F7\n",
      "Cinetica articular\n",
      "Cadera\n",
      "HM1\t0.000000\n",
      "HM2\t0.000000\n",
      "THM1\t0.000000\n",
      "THM2\t0.000000\n",
      "HM3\t0.000000\n",
      "HM4\t0.000000\n",
      "THM3\t0.000000\n",
      "THM4\t0.000000\n",
      "HM5\t0.000000\n",
      "HM6\t0.000000\n",
      "THM5\t0.000000\n",
      "THM6\t0.000000\n",
      "Rodilla\n",
      "KM1\t0.000000\n",
      "KM2\t0.000000\n",
      "TKM1\t0.000000\n",
      "TKM2\t0.000000\n",
      "KM3\t0.000000\n",
      "KM4\t0.000000\n",
      "TKM3\t0.000000\n",
      "TKM4\t0.000000\n",
      "KM5\t0.000000\n",
      "KM6\t0.000000\n",
      "TKM5\t0.000000\n",
      "TKM6\t0.000000\n",
      "Tobillo\n",
      "AM1\t0.000000\n",
      "AM2\t0.000000\n",
      "TAM1\t0.000000\n",
      "TAM2\t0.000000\n",
      "AM3\t0.000000\n",
      "AM4\t0.000000\n",
      "TAM3\t0.000000\n",
      "TAM4\t0.000000\n",
      "AM5\t0.000000\n",
      "AM6\t0.000000\n",
      "TAM5\t0.000000\n",
      "TAM6\t0.000000\n"
     ]
    }
   ],
   "source": [
    "print(file_object.read())"
   ]
  },
  {
   "cell_type": "markdown",
   "metadata": {},
   "source": [
    "·"
   ]
  },
  {
   "cell_type": "markdown",
   "metadata": {},
   "source": [
    "·"
   ]
  },
  {
   "cell_type": "code",
   "execution_count": 6,
   "metadata": {},
   "outputs": [
    {
     "name": "stdout",
     "output_type": "stream",
     "text": [
      "224\n"
     ]
    }
   ],
   "source": [
    "actual_file = r'C:\\Users\\riul0\\Desktop\\TFG_Empresa\\Datos_8º_C'\n",
    "files_in_path = os.listdir(actual_file)\n",
    "files_in_path=files_in_path[2:-1]\n",
    "print(len(files_in_path))"
   ]
  },
  {
   "cell_type": "markdown",
   "metadata": {},
   "source": [
    "·"
   ]
  },
  {
   "cell_type": "markdown",
   "metadata": {},
   "source": [
    "·"
   ]
  },
  {
   "cell_type": "markdown",
   "metadata": {},
   "source": [
    "# DO NOT EXECUTE IT AGAIN OR BORROW ARCHIVES FROM TARGET FILE"
   ]
  },
  {
   "cell_type": "code",
   "execution_count": 7,
   "metadata": {},
   "outputs": [],
   "source": [
    "new_destination_file = r'C:\\Users\\riul0\\Desktop\\TFG_Empresa\\Datos_8º_C\\csv_8º_C'\n",
    "\n",
    "for i in files_in_path:\n",
    "    read_file = pd.read_csv (actual_file + '\\\\' + i)\n",
    "    read_file.to_csv(new_destination_file + '\\\\' + i + '.csv', index=None)"
   ]
  },
  {
   "cell_type": "markdown",
   "metadata": {},
   "source": [
    "# DO NOT EXECUTE IT AGAIN OR BORROW ARCHIVES FROM TARGET FILE"
   ]
  },
  {
   "cell_type": "markdown",
   "metadata": {},
   "source": [
    "·"
   ]
  },
  {
   "cell_type": "markdown",
   "metadata": {},
   "source": [
    "·"
   ]
  },
  {
   "cell_type": "markdown",
   "metadata": {},
   "source": [
    "·"
   ]
  }
 ],
 "metadata": {
  "kernelspec": {
   "display_name": "Python 3",
   "language": "python",
   "name": "python3"
  },
  "language_info": {
   "codemirror_mode": {
    "name": "ipython",
    "version": 3
   },
   "file_extension": ".py",
   "mimetype": "text/x-python",
   "name": "python",
   "nbconvert_exporter": "python",
   "pygments_lexer": "ipython3",
   "version": "3.8.3"
  }
 },
 "nbformat": 4,
 "nbformat_minor": 4
}
