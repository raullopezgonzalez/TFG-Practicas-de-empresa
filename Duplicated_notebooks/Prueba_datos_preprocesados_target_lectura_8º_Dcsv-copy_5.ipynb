{
 "cells": [
  {
   "cell_type": "code",
   "execution_count": 1,
   "metadata": {},
   "outputs": [],
   "source": [
    "import pandas as pd\n",
    "import numpy as np\n",
    "import os"
   ]
  },
  {
   "cell_type": "code",
   "execution_count": 2,
   "metadata": {},
   "outputs": [
    {
     "name": "stdout",
     "output_type": "stream",
     "text": [
      "ParametrosM_DR_L011M2NDAA\n"
     ]
    }
   ],
   "source": [
    "actual_file = r'C:\\Users\\riul0\\Desktop\\TFG_Empresa\\Datos_8º_D'\n",
    "files_in_path = os.listdir(actual_file)\n",
    "files_in_path=files_in_path[2:-1]\n",
    "print(files_in_path[0])\n",
    "\n",
    "file_object  = open(files_in_path[0], 'r')"
   ]
  },
  {
   "cell_type": "code",
   "execution_count": 3,
   "metadata": {
    "scrolled": false
   },
   "outputs": [
    {
     "name": "stdout",
     "output_type": "stream",
     "text": [
      "Parametros Marcha paciente DR_L011M2NDAA\n",
      "VARIABLES TEMPORALES\n",
      "P1\t86.813187\n",
      "P2\t13.186813\n",
      "P3\t0.358570\n",
      "P4\t22.410625\n",
      "P5\t4.550000\n",
      "P6\t13.186813\n",
      "P7\t0.078807\n",
      "P8\t4.925412\n",
      "P9\t0.202710\n",
      "P10\t12.669375\n",
      "P11\t2.750000\n",
      "P12\t21.818182\n",
      "P13\t0.475000\n",
      "P14\t1.275000\n",
      "VELOCIDADES ANGULARES\n",
      "HV1\tNaN\n",
      "HV2\tNaN\n",
      "KV1\tNaN\n",
      "KV2\tNaN\n",
      "AV1\tNaN\n",
      "Vfdt1\tNaN\n",
      "Vfdt2\tNaN\n",
      "VARIABLES CINEMATICAS\n",
      "Pelvis\n",
      "Basculacion anterior\n",
      "HR1\t22.092000\n",
      "HR2\t14.102000\n",
      "HR3\t7.990000\n",
      "THR1\t68.021978\n",
      "THR2\t2.967033\n",
      "Oblicuidad\n",
      "HR4\t7.236000\n",
      "HR5\t-5.472000\n",
      "HR6\t12.708000\n",
      "THR4\t13.626374\n",
      "THR5\t75.164835\n",
      "Rotacion\n",
      "HR7\t2.865000\n",
      "HR8\t-16.877000\n",
      "HR9\t19.742000\n",
      "THR7\t70.549451\n",
      "THR8\t5.494505\n",
      "Cadera\n",
      "Flexo-extension\n",
      "H1\t25.883000\n",
      "H2\t25.883000\n",
      "H3\t6.265000\n",
      "H4\t23.990000\n",
      "H5\t26.957000\n",
      "H6\t23.172000\n",
      "H7\t20.692000\n",
      "TH2\t0.000000\n",
      "TH3\t56.703297\n",
      "TH4\n",
      "TH5\t97.032967\n",
      "TH6\t91.868132\n",
      "Adduccion\n",
      "H8\t6.560000\n",
      "H9\t11.311000\n",
      "H10\t-4.746000\n",
      "H11\t4.960000\n",
      "H12\t7.840000\n",
      "H13\t4.789000\n",
      "H14\t16.057000\n",
      "TH9\t12.527473\n",
      "TH10\t74.945055\n",
      "TH11\n",
      "TH12\t98.791209\n",
      "TH13\t87.472527\n",
      "Rotacion interna\n",
      "H15\t36.161000\n",
      "H16\t10.573000\n",
      "H17\t25.588000\n",
      "THR15\t92.197802\n",
      "THR16\t16.263736\n",
      "Rodilla\n",
      "Flexion\n",
      "K1\t1.850000\n",
      "K2\t37.916000\n",
      "K3\t-10.151000\n",
      "K4\t38.206000\n",
      "K5\t38.922000\n",
      "K6\t-1.545000\n",
      "K7\t49.073000\n",
      "TK2\t86.703297\n",
      "TK3\t21.978022\n",
      "TK4\n",
      "TK5\t87.472527\n",
      "TK6\t96.153846\n",
      "Varo\n",
      "K8\t6.358000\n",
      "K9\t-4.571000\n",
      "K10\t10.929000\n",
      "TK8\t88.791209\n",
      "TK9\t57.802198\n",
      "Rotacion interna\n",
      "K11\t-8.669000\n",
      "K12\t-33.816000\n",
      "K13\t25.147000\n",
      "TK11\t2.747253\n",
      "TK12\t92.087912\n",
      "Tobillo\n",
      "Flexion dorsal\n",
      "A1\t-9.086000\n",
      "A2\t15.714000\n",
      "A3\t-14.414000\n",
      "A4\t9.496000\n",
      "A5\t9.496000\n",
      "A6\t-9.341000\n",
      "A7\t30.128000\n",
      "TA2\t82.857143\n",
      "TA3\t4.835165\n",
      "TA4\n",
      "TA5\t86.813187\n",
      "TA6\t100.000000\n",
      "Supinacion\n",
      "A8\t-10.000000\n",
      "A9\t-21.535000\n",
      "A10\t11.535000\n",
      "TA8\t91.428571\n",
      "TA9\t76.263736\n",
      "VARIABLES CINETICAS\n",
      "Fuerzas de reaccion del suelo\n",
      "F1\n",
      "F2\n",
      "F3\n",
      "F4\t0.000000\n",
      "F5\t0.000000\n",
      "F6\n",
      "F7\n",
      "Cinetica articular\n",
      "Cadera\n",
      "HM1\t0.000000\n",
      "HM2\t0.000000\n",
      "THM1\t0.000000\n",
      "THM2\t0.000000\n",
      "HM3\t0.000000\n",
      "HM4\t0.000000\n",
      "THM3\t0.000000\n",
      "THM4\t0.000000\n",
      "HM5\t0.000000\n",
      "HM6\t0.000000\n",
      "THM5\t0.000000\n",
      "THM6\t0.000000\n",
      "Rodilla\n",
      "KM1\t0.000000\n",
      "KM2\t0.000000\n",
      "TKM1\t0.000000\n",
      "TKM2\t0.000000\n",
      "KM3\t0.000000\n",
      "KM4\t0.000000\n",
      "TKM3\t0.000000\n",
      "TKM4\t0.000000\n",
      "KM5\t0.000000\n",
      "KM6\t0.000000\n",
      "TKM5\t0.000000\n",
      "TKM6\t0.000000\n",
      "Tobillo\n",
      "AM1\t0.000000\n",
      "AM2\t0.000000\n",
      "TAM1\t0.000000\n",
      "TAM2\t0.000000\n",
      "AM3\t0.000000\n",
      "AM4\t0.000000\n",
      "TAM3\t0.000000\n",
      "TAM4\t0.000000\n",
      "AM5\t0.000000\n",
      "AM6\t0.000000\n",
      "TAM5\t0.000000\n",
      "TAM6\t0.000000\n"
     ]
    }
   ],
   "source": [
    "print(file_object.read())"
   ]
  },
  {
   "cell_type": "markdown",
   "metadata": {},
   "source": [
    "·"
   ]
  },
  {
   "cell_type": "markdown",
   "metadata": {},
   "source": [
    "·"
   ]
  },
  {
   "cell_type": "code",
   "execution_count": 4,
   "metadata": {},
   "outputs": [
    {
     "name": "stdout",
     "output_type": "stream",
     "text": [
      "32\n"
     ]
    }
   ],
   "source": [
    "actual_file = r'C:\\Users\\riul0\\Desktop\\TFG_Empresa\\Datos_8º_D'\n",
    "files_in_path = os.listdir(actual_file)\n",
    "files_in_path=files_in_path[2:-1]\n",
    "print(len(files_in_path))"
   ]
  },
  {
   "cell_type": "markdown",
   "metadata": {},
   "source": [
    "·"
   ]
  },
  {
   "cell_type": "markdown",
   "metadata": {},
   "source": [
    "·"
   ]
  },
  {
   "cell_type": "markdown",
   "metadata": {},
   "source": [
    "# DO NOT EXECUTE IT AGAIN OR BORROW ARCHIVES FROM TARGET FILE"
   ]
  },
  {
   "cell_type": "code",
   "execution_count": 5,
   "metadata": {},
   "outputs": [],
   "source": [
    "new_destination_file = r'C:\\Users\\riul0\\Desktop\\TFG_Empresa\\Datos_8º_D\\csv_8º_D'\n",
    "\n",
    "for i in files_in_path:\n",
    "    read_file = pd.read_csv (actual_file + '\\\\' + i)\n",
    "    read_file.to_csv(new_destination_file + '\\\\' + i + '.csv', index=None)"
   ]
  },
  {
   "cell_type": "markdown",
   "metadata": {},
   "source": [
    "# DO NOT EXECUTE IT AGAIN OR BORROW ARCHIVES FROM TARGET FILE"
   ]
  },
  {
   "cell_type": "markdown",
   "metadata": {},
   "source": [
    "·"
   ]
  },
  {
   "cell_type": "markdown",
   "metadata": {},
   "source": [
    "·"
   ]
  },
  {
   "cell_type": "markdown",
   "metadata": {},
   "source": [
    "·"
   ]
  }
 ],
 "metadata": {
  "kernelspec": {
   "display_name": "Python 3",
   "language": "python",
   "name": "python3"
  },
  "language_info": {
   "codemirror_mode": {
    "name": "ipython",
    "version": 3
   },
   "file_extension": ".py",
   "mimetype": "text/x-python",
   "name": "python",
   "nbconvert_exporter": "python",
   "pygments_lexer": "ipython3",
   "version": "3.8.3"
  }
 },
 "nbformat": 4,
 "nbformat_minor": 4
}
