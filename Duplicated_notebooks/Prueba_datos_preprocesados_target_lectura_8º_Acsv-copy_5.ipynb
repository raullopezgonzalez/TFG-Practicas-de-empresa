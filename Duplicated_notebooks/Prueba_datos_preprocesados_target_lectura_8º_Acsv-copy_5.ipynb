{
 "cells": [
  {
   "cell_type": "code",
   "execution_count": 1,
   "metadata": {},
   "outputs": [],
   "source": [
    "import pandas as pd\n",
    "import numpy as np\n",
    "import os"
   ]
  },
  {
   "cell_type": "code",
   "execution_count": 9,
   "metadata": {},
   "outputs": [
    {
     "name": "stdout",
     "output_type": "stream",
     "text": [
      "ParametrosM_DR_L002M1NAAA\n"
     ]
    }
   ],
   "source": [
    "actual_file = r'C:\\Users\\riul0\\Desktop\\TFG_Empresa\\Datos_8º_A'\n",
    "files_in_path = os.listdir(actual_file)\n",
    "files_in_path=files_in_path[2:-1]\n",
    "print(files_in_path[0])\n",
    "\n",
    "file_object  = open(files_in_path[0], 'r')"
   ]
  },
  {
   "cell_type": "code",
   "execution_count": 10,
   "metadata": {
    "scrolled": false
   },
   "outputs": [
    {
     "name": "stdout",
     "output_type": "stream",
     "text": [
      "Parametros Marcha paciente DR_L002M1NAAA\n",
      "VARIABLES TEMPORALES\n",
      "P1\t62.939427\n",
      "P2\t37.060573\n",
      "P3\t0.808100\n",
      "P4\t46.982558\n",
      "P5\t1.290000\n",
      "P6\t46.565346\n",
      "P7\t0.628290\n",
      "P8\t36.528477\n",
      "P9\t0.387120\n",
      "P10\t22.506977\n",
      "P11\t0.665000\n",
      "P12\t90.270263\n",
      "P13\t0.420000\n",
      "P14\t0.203333\n",
      "VELOCIDADES ANGULARES\n",
      "HV1\t-50.426812\n",
      "HV2\t48.577973\n",
      "KV1\t35.941583\n",
      "KV2\t-29.979234\n",
      "AV1\t-52.914337\n",
      "Vfdt1\t20.556150\n",
      "Vfdt2\t15.670808\n",
      "VARIABLES CINEMATICAS\n",
      "Pelvis\n",
      "Basculacion anterior\n",
      "HR1\t13.911333\n",
      "HR2\t4.891333\n",
      "HR3\t9.020000\n",
      "THR1\t65.314417\n",
      "THR2\t65.493083\n",
      "Oblicuidad\n",
      "HR4\t3.427333\n",
      "HR5\t-0.712000\n",
      "HR6\t4.139333\n",
      "THR4\t43.864871\n",
      "THR5\t50.101670\n",
      "Rotacion\n",
      "HR7\t6.104333\n",
      "HR8\t-6.724000\n",
      "HR9\t12.828333\n",
      "THR7\t37.747067\n",
      "THR8\t81.764006\n",
      "Cadera\n",
      "Flexo-extension\n",
      "H1\t27.918333\n",
      "H2\t29.272333\n",
      "H3\t2.820333\n",
      "H4\t5.503667\n",
      "H5\t32.282333\n",
      "H6\t5.443000\n",
      "H7\t29.462000\n",
      "TH2\t5.319579\n",
      "TH3\t56.005197\n",
      "TH4\n",
      "TH5\t92.179787\n",
      "TH6\t63.723740\n",
      "Adduccion\n",
      "H8\t-2.564667\n",
      "H9\t3.740667\n",
      "H10\t-3.058667\n",
      "H11\t2.913333\n",
      "H12\t2.956667\n",
      "H13\t-2.538000\n",
      "H14\t7.075667\n",
      "TH9\t52.599067\n",
      "TH10\t4.951658\n",
      "TH11\n",
      "TH12\t63.723740\n",
      "TH13\t92.814745\n",
      "Rotacion interna\n",
      "H15\t-2.036000\n",
      "H16\t-14.436667\n",
      "H17\t12.400667\n",
      "THR15\t69.604868\n",
      "THR16\t12.699688\n",
      "Rodilla\n",
      "Flexion\n",
      "K1\t18.315667\n",
      "K2\t25.781667\n",
      "K3\t12.124000\n",
      "K4\t24.550667\n",
      "K5\t28.845667\n",
      "K6\t18.847000\n",
      "K7\t16.721667\n",
      "TK2\t44.116860\n",
      "TK3\t36.654592\n",
      "TK4\n",
      "TK5\t75.029092\n",
      "TK6\t100.000000\n",
      "Varo\n",
      "K8\t-1.509667\n",
      "K9\t-7.521000\n",
      "K10\t6.011333\n",
      "TK8\t67.332248\n",
      "TK9\t19.925628\n",
      "Rotacion interna\n",
      "K11\t-29.925667\n",
      "K12\t-45.772667\n",
      "K13\t15.847000\n",
      "TK11\t24.075474\n",
      "TK12\t54.462731\n",
      "Tobillo\n",
      "Flexion dorsal\n",
      "A1\t8.913667\n",
      "A2\t15.461333\n",
      "A3\t3.239333\n",
      "A4\t4.687333\n",
      "A5\t9.982000\n",
      "A6\t3.802667\n",
      "A7\t12.835333\n",
      "TA2\t48.494895\n",
      "TA3\t43.696704\n",
      "TA4\n",
      "TA5\t83.989903\n",
      "TA6\t78.162672\n",
      "Supinacion\n",
      "A8\t13.941667\n",
      "A9\t4.429000\n",
      "A10\t9.512667\n",
      "TA8\t63.959892\n",
      "TA9\t9.353930\n",
      "VARIABLES CINETICAS\n",
      "Fuerzas de reaccion del suelo\n",
      "F1\n",
      "F2\n",
      "F3\n",
      "F4\t0.000000\n",
      "F5\t0.000000\n",
      "F6\n",
      "F7\n",
      "Cinetica articular\n",
      "Cadera\n",
      "HM1\t0.000000\n",
      "HM2\t0.000000\n",
      "THM1\t0.000000\n",
      "THM2\t0.000000\n",
      "HM3\t0.000000\n",
      "HM4\t0.000000\n",
      "THM3\t0.000000\n",
      "THM4\t0.000000\n",
      "HM5\t0.000000\n",
      "HM6\t0.000000\n",
      "THM5\t0.000000\n",
      "THM6\t0.000000\n",
      "Rodilla\n",
      "KM1\t0.000000\n",
      "KM2\t0.000000\n",
      "TKM1\t0.000000\n",
      "TKM2\t0.000000\n",
      "KM3\t0.000000\n",
      "KM4\t0.000000\n",
      "TKM3\t0.000000\n",
      "TKM4\t0.000000\n",
      "KM5\t0.000000\n",
      "KM6\t0.000000\n",
      "TKM5\t0.000000\n",
      "TKM6\t0.000000\n",
      "Tobillo\n",
      "AM1\t0.000000\n",
      "AM2\t0.000000\n",
      "TAM1\t0.000000\n",
      "TAM2\t0.000000\n",
      "AM3\t0.000000\n",
      "AM4\t0.000000\n",
      "TAM3\t0.000000\n",
      "TAM4\t0.000000\n",
      "AM5\t0.000000\n",
      "AM6\t0.000000\n",
      "TAM5\t0.000000\n",
      "TAM6\t0.000000\n"
     ]
    }
   ],
   "source": [
    "print(file_object.read())"
   ]
  },
  {
   "cell_type": "markdown",
   "metadata": {},
   "source": [
    "·"
   ]
  },
  {
   "cell_type": "markdown",
   "metadata": {},
   "source": [
    "·"
   ]
  },
  {
   "cell_type": "code",
   "execution_count": 11,
   "metadata": {},
   "outputs": [
    {
     "name": "stdout",
     "output_type": "stream",
     "text": [
      "536\n"
     ]
    }
   ],
   "source": [
    "actual_file = r'C:\\Users\\riul0\\Desktop\\TFG_Empresa\\Datos_8º_A'\n",
    "files_in_path = os.listdir(actual_file)\n",
    "files_in_path=files_in_path[2:-1]\n",
    "print(len(files_in_path))"
   ]
  },
  {
   "cell_type": "markdown",
   "metadata": {},
   "source": [
    "·"
   ]
  },
  {
   "cell_type": "markdown",
   "metadata": {},
   "source": [
    "·"
   ]
  },
  {
   "cell_type": "markdown",
   "metadata": {},
   "source": [
    "# DO NOT EXECUTE IT AGAIN OR BORROW ARCHIVES FROM TARGET FILE"
   ]
  },
  {
   "cell_type": "code",
   "execution_count": 12,
   "metadata": {},
   "outputs": [],
   "source": [
    "new_destination_file = r'C:\\Users\\riul0\\Desktop\\TFG_Empresa\\Datos_8º_A\\csv_8º_A'\n",
    "\n",
    "for i in files_in_path:\n",
    "    read_file = pd.read_csv (actual_file + '\\\\' + i)\n",
    "    read_file.to_csv(new_destination_file + '\\\\' + i + '.csv', index=None)"
   ]
  },
  {
   "cell_type": "markdown",
   "metadata": {},
   "source": [
    "# DO NOT EXECUTE IT AGAIN OR BORROW ARCHIVES FROM TARGET FILE"
   ]
  },
  {
   "cell_type": "markdown",
   "metadata": {},
   "source": [
    "·"
   ]
  },
  {
   "cell_type": "markdown",
   "metadata": {},
   "source": [
    "·"
   ]
  },
  {
   "cell_type": "markdown",
   "metadata": {},
   "source": [
    "·"
   ]
  }
 ],
 "metadata": {
  "kernelspec": {
   "display_name": "Python 3",
   "language": "python",
   "name": "python3"
  },
  "language_info": {
   "codemirror_mode": {
    "name": "ipython",
    "version": 3
   },
   "file_extension": ".py",
   "mimetype": "text/x-python",
   "name": "python",
   "nbconvert_exporter": "python",
   "pygments_lexer": "ipython3",
   "version": "3.8.3"
  }
 },
 "nbformat": 4,
 "nbformat_minor": 4
}
