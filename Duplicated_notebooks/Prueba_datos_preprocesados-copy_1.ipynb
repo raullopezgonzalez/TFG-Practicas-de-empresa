{
 "cells": [
  {
   "cell_type": "code",
   "execution_count": 1,
   "metadata": {},
   "outputs": [],
   "source": [
    "import shutil # importing shutil module,     shutil.copytree(source, destination)   \n",
    "\n",
    "import os # importing os module  "
   ]
  },
  {
   "cell_type": "code",
   "execution_count": 2,
   "metadata": {},
   "outputs": [],
   "source": [
    "path = r'C:\\Users\\riul0\\Desktop\\TFG_Empresa\\Datos_procesados'"
   ]
  },
  {
   "cell_type": "code",
   "execution_count": 3,
   "metadata": {},
   "outputs": [
    {
     "name": "stdout",
     "output_type": "stream",
     "text": [
      "Examples : ['L001M', 'L002M', 'L002M2N', 'L003M', 'L003M2N', 'L003M3N', 'L004M', 'L005M', 'L005M2N', 'L006M']\n"
     ]
    }
   ],
   "source": [
    "files_in_path = os.listdir(path)\n",
    "print('Examples :',files_in_path[0:10])"
   ]
  },
  {
   "cell_type": "code",
   "execution_count": 4,
   "metadata": {},
   "outputs": [],
   "source": [
    "destination_path = r'C:\\Users\\riul0\\Desktop\\TFG_Empresa\\Datos_preprocesados_target'"
   ]
  },
  {
   "cell_type": "markdown",
   "metadata": {},
   "source": [
    "## Ejemplos "
   ]
  },
  {
   "cell_type": "code",
   "execution_count": 7,
   "metadata": {},
   "outputs": [
    {
     "name": "stdout",
     "output_type": "stream",
     "text": [
      "C:\\Users\\riul0\\Desktop\\TFG_Empresa\\Datos_procesados\\L001M\n",
      "C:\\Users\\riul0\\Desktop\\TFG_Empresa\\Datos_procesados\\L002M\n",
      "C:\\Users\\riul0\\Desktop\\TFG_Empresa\\Datos_procesados\\L002M2N\n"
     ]
    }
   ],
   "source": [
    "path = r'C:\\Users\\riul0\\Desktop\\TFG_Empresa\\Datos_procesados'\n",
    "example = files_in_path[0:3]\n",
    "for i in example:\n",
    "    new_path = path + \"\\\\\"+ i\n",
    "    print(new_path)"
   ]
  },
  {
   "cell_type": "markdown",
   "metadata": {},
   "source": [
    "#### Test to find Informe and Informe medico files"
   ]
  },
  {
   "cell_type": "code",
   "execution_count": 11,
   "metadata": {},
   "outputs": [
    {
     "name": "stdout",
     "output_type": "stream",
     "text": [
      "Checked in : L001M\n",
      "Checked in : L002M\n",
      "Checked in : L003M\n"
     ]
    }
   ],
   "source": [
    "path = r'C:\\Users\\riul0\\Desktop\\TFG_Empresa\\Datos_procesados'\n",
    "example = files_in_path[0:5]\n",
    "for a in example:\n",
    "    new_path = path + \"\\\\\"+ a\n",
    "    files = os.listdir(new_path)\n",
    "    for b in files:\n",
    "        if b == 'Informes' or b == 'Informe medico':\n",
    "            print('Checked in :', a)"
   ]
  },
  {
   "cell_type": "markdown",
   "metadata": {},
   "source": [
    "#### Test to find Parametros in not Informe and Informe medico files"
   ]
  },
  {
   "cell_type": "code",
   "execution_count": 14,
   "metadata": {},
   "outputs": [
    {
     "name": "stdout",
     "output_type": "stream",
     "text": [
      "['autosave.stp', 'GraficaCODA_DR_L001M1NBAA', 'GraficaCODA_DR_L001M1NCAA', 'GraficaCODA_IZ_L001M1NBAA', 'GraficaCODA_IZ_L001M1NCAA', 'HojaTRANSITO_L001M1NBAA.xls', 'HojaTRANSITO_L001M1NCAA.xls', 'L001M1NBA01_M.mdx', 'L001M1NBA03_M.mdx', 'L001M1NBA04.mdx', 'L001M1NBA04_C3D.mdx', 'L001M1NBA04_C4I.mdx', 'L001M1NBA05_M.mdx', 'L001M1NCA06_C2D.mdx', 'L001M1NCA06_C2DC2I.mdx', 'L001M1NCA06_C2I.mdx', 'L001M1NCA08_M.mdx', 'L001M1NCA10_M.mdx', 'ParametrosM_DR_L001M1NBAA', 'ParametrosM_DR_L001M1NCAA', 'ParametrosM_IZ_L001M1NBAA', 'ParametrosM_IZ_L001M1NCAA']\n"
     ]
    }
   ],
   "source": [
    "path = r'C:\\Users\\riul0\\Desktop\\TFG_Empresa\\Datos_procesados'\n",
    "example = files_in_path[0:1]\n",
    "for a in example:\n",
    "    new_path = path + \"\\\\\"+ a\n",
    "    files = os.listdir(new_path)\n",
    "    for b in files:\n",
    "        if b == 'Informes':\n",
    "            new_new_path = new_path + '\\\\Informes'\n",
    "            archives = os.listdir(new_new_path)\n",
    "            print(archives)\n",
    "        if b == 'Informe medico':\n",
    "            new_new_path = new_path + '\\\\Informe medico'\n",
    "            archives = os.listdir(new_new_path)\n",
    "            print(archives)"
   ]
  },
  {
   "cell_type": "code",
   "execution_count": 23,
   "metadata": {},
   "outputs": [
    {
     "name": "stdout",
     "output_type": "stream",
     "text": [
      "P Prueb a\n",
      "Checked\n"
     ]
    }
   ],
   "source": [
    "Letra = 'Prueba'\n",
    "print(Letra[0], Letra[0:5], Letra[-1])\n",
    "if Letra[0] == 'P':\n",
    "    print('Checked')"
   ]
  },
  {
   "cell_type": "code",
   "execution_count": 26,
   "metadata": {},
   "outputs": [
    {
     "name": "stdout",
     "output_type": "stream",
     "text": [
      "Ckecked\n",
      "Ckecked\n",
      "Ckecked\n",
      "Ckecked\n"
     ]
    }
   ],
   "source": [
    "path = r'C:\\Users\\riul0\\Desktop\\TFG_Empresa\\Datos_procesados'\n",
    "example = files_in_path[0:1]\n",
    "for a in example:\n",
    "    new_path = path + \"\\\\\"+ a\n",
    "    files = os.listdir(new_path)\n",
    "    for b in files:\n",
    "        if b == 'Informes':\n",
    "            new_new_path = new_path + '\\\\Informes'\n",
    "            archives = os.listdir(new_new_path)\n",
    "            for c in archives:\n",
    "                if c[0:10] == 'Parametros' and c[-1] == 'A' and c[-2] == 'A':\n",
    "                    print('Ckecked')\n",
    "        if b == 'Informe medico':\n",
    "            new_new_path = new_path + '\\\\Informe medico'\n",
    "            archives = os.listdir(new_new_path)\n",
    "            for c in archives:\n",
    "                if c[0:10] == 'Parametros' and c[-1] == 'A' and c[-2] == 'A':\n",
    "                    print('Ckecked')"
   ]
  },
  {
   "cell_type": "markdown",
   "metadata": {},
   "source": [
    "#### Try of copying"
   ]
  },
  {
   "cell_type": "code",
   "execution_count": 28,
   "metadata": {},
   "outputs": [],
   "source": [
    "destination_file = r'C:\\Users\\riul0\\Desktop\\TFG_Empresa\\Datos_preprocesados_target'"
   ]
  },
  {
   "cell_type": "code",
   "execution_count": 29,
   "metadata": {},
   "outputs": [],
   "source": [
    "path = r'C:\\Users\\riul0\\Desktop\\TFG_Empresa\\Datos_procesados'\n",
    "example = files_in_path[0:1]\n",
    "for a in example:\n",
    "    new_path = path + \"\\\\\"+ a\n",
    "    files = os.listdir(new_path)\n",
    "    for b in files:\n",
    "        if b == 'Informes':\n",
    "            new_new_path = new_path + '\\\\Informes'\n",
    "            archives = os.listdir(new_new_path)\n",
    "            for c in archives:\n",
    "                if c[0:10] == 'Parametros' and c[-1] == 'A' and c[-2] == 'A':\n",
    "                    archive_to_copy = new_new_path + \"\\\\\"+ c\n",
    "                    shutil.copy(archive_to_copy, destination_file)\n",
    "        if b == 'Informe medico':\n",
    "            new_new_path = new_path + '\\\\Informe medico'\n",
    "            archives = os.listdir(new_new_path)\n",
    "            for c in archives:\n",
    "                if c[0:10] == 'Parametros' and c[-1] == 'A' and c[-2] == 'A':\n",
    "                    archive_to_copy = new_new_path + \"\\\\\"+ c\n",
    "                    shutil.copy(archive_to_copy, destination_file)"
   ]
  },
  {
   "cell_type": "markdown",
   "metadata": {},
   "source": [
    "#### It works.... but now lets do it with the whole data"
   ]
  },
  {
   "cell_type": "markdown",
   "metadata": {},
   "source": [
    "·"
   ]
  },
  {
   "cell_type": "markdown",
   "metadata": {},
   "source": [
    "·"
   ]
  },
  {
   "cell_type": "markdown",
   "metadata": {},
   "source": [
    "·"
   ]
  },
  {
   "cell_type": "markdown",
   "metadata": {},
   "source": [
    "·"
   ]
  },
  {
   "cell_type": "markdown",
   "metadata": {},
   "source": [
    "# 33'60 Seconds computing. \n",
    "\n",
    "# DO NOT EXECUTE IT AGAIN OR BORROW ARCHIVES FROM TARGET FILE"
   ]
  },
  {
   "cell_type": "code",
   "execution_count": 35,
   "metadata": {},
   "outputs": [],
   "source": [
    "destination_file = r'C:\\Users\\riul0\\Desktop\\TFG_Empresa\\Datos_preprocesados_target'\n",
    "\n",
    "path = r'C:\\Users\\riul0\\Desktop\\TFG_Empresa\\Datos_procesados'\n",
    "files_in_path = os.listdir(path)\n",
    "example = files_in_path\n",
    "\n",
    "for a in example:\n",
    "    new_path = path + \"\\\\\"+ a\n",
    "    files = os.listdir(new_path)\n",
    "    for b in files:\n",
    "        if b == 'Informes':\n",
    "            new_new_path = new_path + '\\\\Informes'\n",
    "            archives = os.listdir(new_new_path)\n",
    "            for c in archives:\n",
    "                if c[0:10] == 'Parametros' and c[-1] == 'A' and c[-2] == 'A':\n",
    "                    archive_to_copy = new_new_path + \"\\\\\"+ c\n",
    "                    shutil.copy(archive_to_copy, destination_file)\n",
    "                    \n",
    "        if b == 'Informe medico':\n",
    "            new_new_path = new_path + '\\\\Informe medico'\n",
    "            archives = os.listdir(new_new_path)\n",
    "            for c in archives:\n",
    "                if c[0:10] == 'Parametros' and c[-1] == 'A' and c[-2] == 'A':\n",
    "                    archive_to_copy = new_new_path + \"\\\\\"+ c\n",
    "                    shutil.copy(archive_to_copy, destination_file)\n",
    "                    \n",
    "        else:\n",
    "            new_new_path = new_path \n",
    "            archives = os.listdir(new_new_path)\n",
    "            for c in archives:\n",
    "                if c[0:10] == 'Parametros' and c[-1] == 'A' and c[-2] == 'A':\n",
    "                    archive_to_copy = new_new_path + \"\\\\\"+ c\n",
    "                    shutil.copy(archive_to_copy, destination_file)        "
   ]
  },
  {
   "cell_type": "markdown",
   "metadata": {},
   "source": [
    "# 33'60 Seconds computing. \n",
    "\n",
    "# DO NOT EXECUTE IT AGAIN OR BORROW ARCHIVES FROM TARGET FILE "
   ]
  },
  {
   "cell_type": "markdown",
   "metadata": {},
   "source": [
    "·"
   ]
  },
  {
   "cell_type": "markdown",
   "metadata": {},
   "source": [
    "·"
   ]
  },
  {
   "cell_type": "markdown",
   "metadata": {},
   "source": [
    "·"
   ]
  },
  {
   "cell_type": "markdown",
   "metadata": {},
   "source": [
    "·"
   ]
  },
  {
   "cell_type": "code",
   "execution_count": null,
   "metadata": {},
   "outputs": [],
   "source": []
  }
 ],
 "metadata": {
  "kernelspec": {
   "display_name": "Python 3",
   "language": "python",
   "name": "python3"
  },
  "language_info": {
   "codemirror_mode": {
    "name": "ipython",
    "version": 3
   },
   "file_extension": ".py",
   "mimetype": "text/x-python",
   "name": "python",
   "nbconvert_exporter": "python",
   "pygments_lexer": "ipython3",
   "version": "3.8.3"
  }
 },
 "nbformat": 4,
 "nbformat_minor": 4
}
